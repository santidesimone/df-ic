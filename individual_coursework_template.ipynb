{
 "cells": [
  {
   "cell_type": "markdown",
   "metadata": {},
   "source": [
    "# COMP0164: Digital Finance\n",
    "## Individual Coursework\n",
    "\n",
    "If you have set up an **`Anaconda`** environment, don't forget to activate it using:\n",
    "\n",
    "> conda activate digital_finance_env\n",
    "\n",
    "Below are the imports that you will need for the coursework:"
   ]
  },
  {
   "cell_type": "code",
   "execution_count": 1,
   "metadata": {},
   "outputs": [],
   "source": [
    "import numpy as np\n",
    "import pandas as pd\n",
    "import math\n",
    "import scipy as sp\n",
    "\n",
    "import yfinance as yf\n",
    "\n",
    "import matplotlib.pyplot as plt\n"
   ]
  },
  {
   "cell_type": "code",
   "execution_count": 2,
   "metadata": {},
   "outputs": [],
   "source": [
    "import copy\n",
    "from pypfopt import risk_models\n",
    "from pypfopt import expected_returns\n",
    "from pypfopt.efficient_frontier import EfficientFrontier\n",
    "\n",
    "def plot_efficient_frontier(ef: EfficientFrontier, points: int=100) -> None:\n",
    "    fig, ax = plt.subplots()\n",
    "\n",
    "    # Generate range of returns\n",
    "    ef_minvol = copy.deepcopy(ef)\n",
    "    ef_maxret = copy.deepcopy(ef)\n",
    "    ef_minvol.min_volatility()\n",
    "    min_ret = ef_minvol.portfolio_performance()[0]\n",
    "    max_ret = ef_maxret._max_return()\n",
    "    ef_param_range = np.linspace(min_ret, max_ret - 0.0001, points)\n",
    "\n",
    "    # Plot efficient frontier from EfficientFrontier object\n",
    "    mus, sigmas = [], []\n",
    "    for param_value in ef_param_range:\n",
    "        ef_i = copy.deepcopy(ef)\n",
    "        try:\n",
    "            ef_i.efficient_return(param_value)\n",
    "        except:\n",
    "            raise ValueError(\"pypfopt experiences problems with portfolio optimization.\")\n",
    "        ret, sigma, _ = ef_i.portfolio_performance()\n",
    "        mus.append(ret)\n",
    "        sigmas.append(sigma)\n",
    "    \n",
    "    # Generate axis and plot\n",
    "    ax.plot(sigmas, mus, label=\"Efficient Frontier\")\n",
    "    ax.legend()\n",
    "    ax.set_xlabel(\"Volatility\")\n",
    "    ax.set_ylabel(\"Return\")\n",
    "    plt.show()"
   ]
  },
  {
   "cell_type": "markdown",
   "metadata": {},
   "source": [
    "<div class=\"alert alert-danger\">\n",
    "<b>WARNING: </b>\n",
    "\n",
    "For question 6, you may want to use **pyportfolioopt** package to construct the efficient frontier. If you use Python>=3.6, the plotting functionality of the **pyportfolioopt** package may not work. Please use the function defined below to plot EfficientFrontier object.\n",
    "</div>"
   ]
  },
  {
   "cell_type": "code",
   "execution_count": 3,
   "metadata": {},
   "outputs": [],
   "source": [
    "import copy\n",
    "from pypfopt import risk_models\n",
    "from pypfopt import expected_returns\n",
    "from pypfopt.efficient_frontier import EfficientFrontier\n",
    "\n",
    "def plot_efficient_frontier(ef: EfficientFrontier, points: int=100) -> None:\n",
    "    fig, ax = plt.subplots()\n",
    "\n",
    "    # Generate range of returns\n",
    "    ef_minvol = copy.deepcopy(ef)\n",
    "    ef_maxret = copy.deepcopy(ef)\n",
    "    ef_minvol.min_volatility()\n",
    "    min_ret = ef_minvol.portfolio_performance()[0]\n",
    "    max_ret = ef_maxret._max_return()\n",
    "    ef_param_range = np.linspace(min_ret, max_ret - 0.0001, points)\n",
    "\n",
    "    # Plot efficient frontier from EfficientFrontier object\n",
    "    mus, sigmas = [], []\n",
    "    for param_value in ef_param_range:\n",
    "        ef_i = copy.deepcopy(ef)\n",
    "        try:\n",
    "            ef_i.efficient_return(param_value)\n",
    "        except:\n",
    "            raise ValueError(\"pypfopt experiences problems with portfolio optimization.\")\n",
    "        ret, sigma, _ = ef_i.portfolio_performance()\n",
    "        mus.append(ret)\n",
    "        sigmas.append(sigma)\n",
    "    \n",
    "    # Generate axis and plot\n",
    "    ax.plot(sigmas, mus, label=\"Efficient Frontier\")\n",
    "    ax.legend()\n",
    "    ax.set_xlabel(\"Volatility\")\n",
    "    ax.set_ylabel(\"Return\")\n",
    "    plt.show()"
   ]
  },
  {
   "cell_type": "markdown",
   "metadata": {},
   "source": [
    "## Question 1: General Questions **\\[12 marks\\]**"
   ]
  },
  {
   "cell_type": "markdown",
   "metadata": {},
   "source": [
    "1. Which of the following is not a characteristic of common stock? **\\[1 mark\\]**\n",
    "   - A. The company is obligated to make periodic dividend payments.\n",
    "   - B. Shareholders participate in the decision-making process.\n",
    "   - C. It represents an ownership interest in the company.\n",
    "   - D. Common stock is a residual claim on a firm's assets and cash flow."
   ]
  },
  {
   "cell_type": "code",
   "execution_count": 1,
   "metadata": {},
   "outputs": [],
   "source": [
    "# The correct answer is A."
   ]
  },
  {
   "cell_type": "markdown",
   "metadata": {},
   "source": [
    "2. A financial analyst wants to compute a company's weighted average cost of capital (WACC) using the dividend discount model. The company has a before-tax cost of new debt of 8%, tax rate of 37.5%, target debt-to-equity ratio of 0.71, current stock price of $34, estimated dividend growth rate of 7% and will pay a dividend of $1.2 next year. What is the company’s WACC (You must provide your calculations)? **\\[3 marks\\]**\n",
    "   - A. 8 percent.\n",
    "   - B. 9 percent.\n",
    "   - C. 10 percent.\n",
    "   - D. 11 percent."
   ]
  },
  {
   "cell_type": "code",
   "execution_count": 4,
   "metadata": {},
   "outputs": [
    {
     "name": "stdout",
     "output_type": "stream",
     "text": [
      "WACC: 8.23%\n",
      "\n",
      "Calculations:\n",
      "after_tax_debt_cost: 5.0000%\n",
      "cost_of_equity: 10.5294%\n",
      "weight_of_debt: 41.5205%\n",
      "weight_of_equity: 58.4795%\n"
     ]
    }
   ],
   "source": [
    "# The correct answer is A: 8 percent. \n",
    "\n",
    "def calculate_wacc(before_tax_debt_cost, tax_rate, debt_equity_ratio, \n",
    "                  stock_price, dividend_next_year, dividend_growth_rate):\n",
    "    \"\"\"\n",
    "    Calculate Weighted Average Cost of Capital (WACC) using the dividend discount model.\n",
    "    \n",
    "    Parameters:\n",
    "    before_tax_debt_cost (float): Before-tax cost of new debt (as decimal)\n",
    "    tax_rate (float): Tax rate (as decimal)\n",
    "    debt_equity_ratio (float): Target debt-to-equity ratio\n",
    "    stock_price (float): Current stock price\n",
    "    dividend_next_year (float): Expected dividend next year\n",
    "    dividend_growth_rate (float): Estimated dividend growth rate (as decimal)\n",
    "    \n",
    "    Returns:\n",
    "    tuple: (WACC as decimal, dictionary of calculations)\n",
    "    \"\"\"\n",
    "    # Calculate after-tax cost of debt\n",
    "    after_tax_debt_cost = before_tax_debt_cost * (1 - tax_rate)\n",
    "    \n",
    "    # Calculate cost of equity using dividend discount model\n",
    "    cost_of_equity = (dividend_next_year / stock_price) + dividend_growth_rate\n",
    "    \n",
    "    # Calculate weights\n",
    "    total_capital = 1 + debt_equity_ratio\n",
    "    weight_of_debt = debt_equity_ratio / total_capital\n",
    "    weight_of_equity = 1 / total_capital\n",
    "    \n",
    "    # Calculate WACC\n",
    "    wacc = (weight_of_debt * after_tax_debt_cost + \n",
    "            weight_of_equity * cost_of_equity)\n",
    "    \n",
    "    # Storage of calculations \n",
    "    calculations = {\n",
    "        'after_tax_debt_cost': after_tax_debt_cost,\n",
    "        'cost_of_equity': cost_of_equity,\n",
    "        'weight_of_debt': weight_of_debt,\n",
    "        'weight_of_equity': weight_of_equity\n",
    "    }\n",
    "    \n",
    "    return wacc, calculations\n",
    "\n",
    "before_tax_debt_cost = 0.08  # 8%\n",
    "tax_rate = 0.375            # 37.5%\n",
    "debt_equity_ratio = 0.71\n",
    "stock_price = 34\n",
    "dividend_growth_rate = 0.07  # 7%\n",
    "dividend_next_year = 1.2\n",
    "\n",
    "\n",
    "wacc, calcs = calculate_wacc(\n",
    "    before_tax_debt_cost,\n",
    "    tax_rate,\n",
    "    debt_equity_ratio,\n",
    "    stock_price,\n",
    "    dividend_next_year,\n",
    "    dividend_growth_rate\n",
    ")\n",
    "\n",
    "# Print results\n",
    "print(f\"WACC: {wacc:.2%}\")\n",
    "print(\"\\nCalculations:\")\n",
    "for key, value in calcs.items():\n",
    "    print(f\"{key}: {value:.4%}\")"
   ]
  },
  {
   "cell_type": "markdown",
   "metadata": {},
   "source": [
    "3. An Indonesian company issues bonds denominated in pound sterling that are sold to investors in the UK. These bonds can be best described as **\\[1 mark\\]**:\n",
    "   - A. Eurobonds.\n",
    "   - B. Global bonds.\n",
    "   - C. Eurosterling bonds.\n",
    "   - D. Bulldog bonds."
   ]
  },
  {
   "cell_type": "code",
   "execution_count": 3,
   "metadata": {},
   "outputs": [],
   "source": [
    "# The correct answer is D: Bulldog bonds."
   ]
  },
  {
   "cell_type": "markdown",
   "metadata": {},
   "source": [
    "4. Compared to an ordinary straight bond, which of the following bond types is most likely to provide more value to the issuer? **\\[1 mark\\]**\n",
    "   - A. Put bond.\n",
    "   - B. Callable bond.\n",
    "   - C. Collateralized bond.\n",
    "   - D. Bond with a covenant restricting dividend payments."
   ]
  },
  {
   "cell_type": "code",
   "execution_count": 4,
   "metadata": {},
   "outputs": [],
   "source": [
    "# The correct answer is B: Callable bond."
   ]
  },
  {
   "cell_type": "markdown",
   "metadata": {},
   "source": [
    "5. Consider a 2-year bond that offers a 4% coupon rate with semi-annual coupon payment. The bond has a yield-to-maturity of 6% and is currently priced at 94.44 per 100 of par. What is the bond’s duration (You must provide your calculations)? **\\[2 marks\\]**\n",
    "   - A. 1.97.\n",
    "   - B. 1.98.\n",
    "   - C. 1.99.\n",
    "   - D. 2.00."
   ]
  },
  {
   "cell_type": "code",
   "execution_count": 19,
   "metadata": {},
   "outputs": [
    {
     "name": "stdout",
     "output_type": "stream",
     "text": [
      "Duration: 1.9785 years\n",
      "\n",
      "Detailed Calculations:\n",
      "\n",
      "Period 1:\n",
      "Time (years): 0.50\n",
      "Cash Flow: $2.00\n",
      "Present Value: $1.942\n",
      "Weighted Value: $0.971\n",
      "\n",
      "Period 2:\n",
      "Time (years): 1.00\n",
      "Cash Flow: $2.00\n",
      "Present Value: $1.885\n",
      "Weighted Value: $1.885\n",
      "\n",
      "Period 3:\n",
      "Time (years): 1.50\n",
      "Cash Flow: $2.00\n",
      "Present Value: $1.830\n",
      "Weighted Value: $2.745\n",
      "\n",
      "Period 4:\n",
      "Time (years): 2.00\n",
      "Cash Flow: $102.00\n",
      "Present Value: $90.626\n",
      "Weighted Value: $181.251\n",
      "\n",
      "Sum of Weighted Values: $186.853\n",
      "Current Price: $94.44\n"
     ]
    }
   ],
   "source": [
    "# The correct answer is A: 1.97\n",
    "\n",
    "import numpy as np\n",
    "\n",
    "def calculate_bond_duration(par_value, coupon_rate, ytm, years, frequency, current_price):\n",
    "    \"\"\"\n",
    "    Calculate the duration of a bond using NumPy for efficient calculations.\n",
    "    \n",
    "    Parameters:\n",
    "    par_value (float): Face value of the bond\n",
    "    coupon_rate (float): Annual coupon rate (as decimal)\n",
    "    ytm (float): Annual yield to maturity (as decimal)\n",
    "    years (int): Number of years to maturity\n",
    "    frequency (int): Number of coupon payments per year\n",
    "    current_price (float): Current market price of the bond\n",
    "    \n",
    "    Returns:\n",
    "    float: Duration in years\n",
    "    dict: Additional calculations for verification\n",
    "    \"\"\"\n",
    "    # Convert annual rates to periodic rates\n",
    "    periodic_coupon_rate = coupon_rate / frequency\n",
    "    periodic_ytm = ytm / frequency\n",
    "    \n",
    "    # Calculate number of periods\n",
    "    n_periods = years * frequency\n",
    "    \n",
    "    # Create time periods array\n",
    "    time_periods = np.arange(1, n_periods + 1) / frequency\n",
    "    \n",
    "    # Calculate periodic coupon payment\n",
    "    coupon_payment = par_value * periodic_coupon_rate\n",
    "    \n",
    "    # Create cash flows array\n",
    "    cash_flows = np.full(n_periods, coupon_payment)\n",
    "    cash_flows[-1] += par_value  # Add par value to last payment\n",
    "    \n",
    "    # Calculate discount factors\n",
    "    discount_factors = 1 / (1 + periodic_ytm) ** np.arange(1, n_periods + 1)\n",
    "    \n",
    "    # Calculate present values\n",
    "    present_values = cash_flows * discount_factors\n",
    "    \n",
    "    # Calculate weighted present values\n",
    "    weighted_values = time_periods * present_values\n",
    "    \n",
    "    # Calculate duration\n",
    "    duration = np.sum(weighted_values) / current_price\n",
    "    \n",
    "    # Store calculations for verification\n",
    "    details = {\n",
    "        'time_periods': time_periods,\n",
    "        'cash_flows': cash_flows,\n",
    "        'present_values': present_values,\n",
    "        'weighted_values': weighted_values\n",
    "    }\n",
    "    \n",
    "    return duration, details\n",
    "\n",
    "# Example usage with the given problem values\n",
    "par_value = 100\n",
    "coupon_rate = 0.04  # 4%\n",
    "ytm = 0.06         # 6%\n",
    "years = 2\n",
    "frequency = 2      # semi-annual payments\n",
    "current_price = 94.44\n",
    "\n",
    "duration, details = calculate_bond_duration(\n",
    "    par_value,\n",
    "    coupon_rate,\n",
    "    ytm,\n",
    "    years,\n",
    "    frequency,\n",
    "    current_price\n",
    ")\n",
    "\n",
    "# Print results\n",
    "print(f\"Duration: {duration:.4f} years\")\n",
    "print(\"\\nDetailed Calculations:\")\n",
    "for i in range(len(details['time_periods'])):\n",
    "    print(f\"\\nPeriod {i+1}:\")\n",
    "    print(f\"Time (years): {details['time_periods'][i]:.2f}\")\n",
    "    print(f\"Cash Flow: ${details['cash_flows'][i]:.2f}\")\n",
    "    print(f\"Present Value: ${details['present_values'][i]:.3f}\")\n",
    "    print(f\"Weighted Value: ${details['weighted_values'][i]:.3f}\")\n",
    "\n",
    "print(f\"\\nSum of Weighted Values: ${np.sum(details['weighted_values']):.3f}\")\n",
    "print(f\"Current Price: ${current_price}\")"
   ]
  },
  {
   "cell_type": "markdown",
   "metadata": {},
   "source": [
    "6. Suppose that the value of a bond’s annual modified duration and convexity are 4.39 and 52.64, respectively. If the bond’s yield-to-maturity decreases by 15 bps, what is the expected percentage price change (You must provide your calculations)? **\\[2 marks\\]**\n",
    "   - A. 0.66%.\n",
    "   - B. 0.67%.\n",
    "   - C. 0.68%.\n",
    "   - D. 0.69%."
   ]
  },
  {
   "cell_type": "code",
   "execution_count": 22,
   "metadata": {},
   "outputs": [
    {
     "name": "stdout",
     "output_type": "stream",
     "text": [
      "Expected Price Change: 0.6644%\n",
      "\n",
      "Detailed Calculations:\n",
      "       Component  Value (%)\n",
      " Duration Effect   0.658500\n",
      "Convexity Effect   0.005922\n",
      "    Total Change   0.664422\n"
     ]
    },
    {
     "data": {
      "image/png": "[encoded data removed]",
      "text/plain": [
       "<Figure size 1200x500 with 2 Axes>"
      ]
     },
     "metadata": {},
     "output_type": "display_data"
    }
   ],
   "source": [
    "# The correct answer is A: 0.66%\n",
    "\n",
    "import numpy as np\n",
    "import pandas as pd\n",
    "import matplotlib.pyplot as plt\n",
    "\n",
    "def calculate_price_change(modified_duration, convexity, yield_change):\n",
    "    \"\"\"\n",
    "    Calculate the expected percentage price change of a bond using duration and convexity.\n",
    "    \n",
    "    Parameters:\n",
    "    modified_duration (float): Bond's modified duration\n",
    "    convexity (float): Bond's convexity\n",
    "    yield_change (float): Change in yield (in decimal form)\n",
    "    \n",
    "    Returns:\n",
    "    tuple: (total price change %, DataFrame with calculations, plot)\n",
    "    \"\"\"\n",
    "    # Calculate duration effect using numpy\n",
    "    duration_effect = -np.multiply(modified_duration, yield_change)\n",
    "    \n",
    "    # Calculate convexity effect using numpy\n",
    "    convexity_effect = np.multiply(0.5, np.multiply(convexity, np.power(yield_change, 2)))\n",
    "    \n",
    "    # Calculate total effect\n",
    "    total_change = np.add(duration_effect, convexity_effect)\n",
    "    \n",
    "    # Create DataFrame with calculations\n",
    "    calculations = pd.DataFrame({\n",
    "        'Component': ['Duration Effect', 'Convexity Effect', 'Total Change'],\n",
    "        'Value (%)': [duration_effect*100, convexity_effect*100, total_change*100]\n",
    "    })\n",
    "    \n",
    "    # Create visualization\n",
    "    fig, (ax1, ax2) = plt.subplots(1, 2, figsize=(12, 5))\n",
    "    \n",
    "    # Bar plot of components\n",
    "    components = ['Duration Effect', 'Convexity Effect', 'Total']\n",
    "    values = [duration_effect*100, convexity_effect*100, total_change*100]\n",
    "    colors = ['lightblue', 'lightgreen', 'lightgray']\n",
    "    \n",
    "    ax1.bar(components, values, color=colors)\n",
    "    ax1.set_title('Components of Price Change')\n",
    "    ax1.set_ylabel('Percentage (%)')\n",
    "    for i, v in enumerate(values):\n",
    "        ax1.text(i, v, f'{v:.4f}%', ha='center', va='bottom')\n",
    "    \n",
    "    # Sensitivity analysis\n",
    "    yield_changes = np.linspace(-0.003, 0.003, 100)  # Range of yield changes\n",
    "    price_changes = []\n",
    "    \n",
    "    for yc in yield_changes:\n",
    "        dur_effect = -modified_duration * yc\n",
    "        conv_effect = 0.5 * convexity * yc**2\n",
    "        price_changes.append((dur_effect + conv_effect) * 100)\n",
    "    \n",
    "    ax2.plot(yield_changes*100, price_changes, 'b-', label='Total Effect')\n",
    "    ax2.plot(yield_changes*100, -modified_duration*yield_changes*100, 'r--', \n",
    "             label='Duration Effect Only')\n",
    "    ax2.axvline(x=yield_change*100, color='g', linestyle=':', label='Current Change')\n",
    "    ax2.grid(True, linestyle='--', alpha=0.7)\n",
    "    ax2.set_title('Price Change vs Yield Change')\n",
    "    ax2.set_xlabel('Yield Change (bps)')\n",
    "    ax2.set_ylabel('Price Change (%)')\n",
    "    ax2.legend()\n",
    "    \n",
    "    plt.tight_layout()\n",
    "    \n",
    "    return total_change, calculations, (fig, ax1, ax2)\n",
    "\n",
    "# Example usage with the given problem values\n",
    "modified_duration = 4.39\n",
    "convexity = 52.64\n",
    "yield_change = -0.0015  # -15 bps\n",
    "\n",
    "total_change, calcs, plots = calculate_price_change(\n",
    "    modified_duration,\n",
    "    convexity,\n",
    "    yield_change\n",
    ")\n",
    "\n",
    "# Print results\n",
    "print(f\"Expected Price Change: {total_change*100:.4f}%\")\n",
    "print(\"\\nDetailed Calculations:\")\n",
    "print(calcs.to_string(index=False))\n",
    "\n",
    "# Display plots\n",
    "plt.show()"
   ]
  },
  {
   "cell_type": "markdown",
   "metadata": {},
   "source": [
    "7. Consider a forward contract for a stock that is currently trading at $53 per share. The forward contract's strike price is $50, and it has two years to maturity. The company will pay 4% in dividend yield over the next two years, while the spot rate for a two-year treasury bill is 2%. What is the present value of the forward contract? **\\[2 marks\\]**\n",
    "   - A. 0.83.\n",
    "   - B. 0.86.\n",
    "   - C. 0.89.\n",
    "   - D. 0.92."
   ]
  },
  {
   "cell_type": "code",
   "execution_count": 7,
   "metadata": {},
   "outputs": [],
   "source": [
    "# The correct answer is C: 0.89"
   ]
  },
  {
   "cell_type": "markdown",
   "metadata": {},
   "source": [
    "## Question 2: Time Value of Money **\\[15 marks\\]**\n",
    "In this question you will be working with the concept of time value of money by looking at different cashflows that constitute the price of a bond.\n",
    "\n",
    "First, you are asked to design a tool for computing the spot rates using the bootstrap method, and then verify its validity by applying it to Exhibit 1 below.\n",
    "\n",
    "### Exhibit 1: Spot Rate Table\n",
    "| Principal | Maturity (Years) | Coupon (per Year) | Price | Coupon Frequency | Zero Rate (Continuous) |\n",
    "| --- | --- | --- | --- | --- | --- |\n",
    "| 100 | 0.5 | 0 | 99.8 | 0.5 (SA) | 0.4% |\n",
    "| 100 | 1 | 3 | 101.2 | 1 (A) | 1.763% |\n",
    "| 100 | 1.5 | 4 | 102.4 | 0.5 (SA) | 2.369% |\n",
    "\n",
    "- SA: Semi-annual coupon\n",
    "- A: Annual coupon"
   ]
  },
  {
   "cell_type": "markdown",
   "metadata": {},
   "source": [
    "1. Design a function that take in the required parameters for the bootstrap method in form of a Pandas DataFrame and returns the same DataFrame but with a new column called \"Zero Rates\". Then, demonstrate that your function produces the correct spot rates as in the table above. **\\[6 marks\\]**"
   ]
  },
  {
   "cell_type": "code",
   "execution_count": 30,
   "metadata": {},
   "outputs": [
    {
     "name": "stdout",
     "output_type": "stream",
     "text": [
      "\n",
      "Input DataFrame with Calculated Zero Rates:\n",
      "   Maturity    Price  Coupon_Rate  Principal  Zero_Rates\n",
      "0    0.5000  99.8000       0.5000        100     50.3006\n",
      "1    1.0000 101.2000       1.0000        100     97.6285\n",
      "2    1.5000 102.4000       0.5000        100     67.5981\n"
     ]
    }
   ],
   "source": [
    "# Answer here\n",
    "# import matplotlib.pyplot as plt\n",
    "\n",
    "# plt.title(\"Term Structure of Interest Rate/Yield Curve\")\n",
    "# plt.xlabel(\"Time (Years)\")\n",
    "# plt.ylabel(\"Risk-Free Rate (%)\")\n",
    "# plt.plot(time, rate)\n",
    "# plt.xlim(left=0)\n",
    "# plt.ylim(ymin=0, ymax=5)\n",
    "# plt.show()\n",
    "\n",
    "import numpy as np\n",
    "import pandas as pd\n",
    "\n",
    "def calculate_zero_rates(df):\n",
    "    \"\"\"\n",
    "    Calculate zero rates using the bootstrap method.\n",
    "    \n",
    "    Parameters:\n",
    "    df: DataFrame with columns:\n",
    "        - 'Maturity': Time to maturity in years\n",
    "        - 'Price': Bond price\n",
    "        - 'Coupon_Rate': Annual coupon rate (as decimal)\n",
    "        - 'Principal': Principal amount of the bond\n",
    "        \n",
    "    Returns:\n",
    "    DataFrame: Original DataFrame with additional 'Zero_Rates' column\n",
    "    \"\"\"\n",
    "    \n",
    "    # Sort DataFrame by maturity to ensure sequential calculation\n",
    "    df = df.sort_values('Maturity')\n",
    "    \n",
    "    # Initialize zero rates list\n",
    "    zero_rates = []\n",
    "    \n",
    "    for i in range(len(df)):\n",
    "        price = df.iloc[i]['Price']\n",
    "        coupon = df.iloc[i]['Coupon_Rate']\n",
    "        maturity = df.iloc[i]['Maturity']\n",
    "        principal = df.iloc[i]['Principal']\n",
    "        annual_coupon = principal * coupon\n",
    "        \n",
    "        if i == 0:  # First bond\n",
    "            # For 1-year bond, solve directly\n",
    "            zero_rate = (principal + annual_coupon - price) / price\n",
    "            zero_rates.append(zero_rate)\n",
    "            \n",
    "        else:  # For subsequent bonds\n",
    "            # Calculate PV of all previous cash flows\n",
    "            pv_previous = 0\n",
    "            for t in range(int(maturity)):\n",
    "                if t < maturity - 1:  # For coupon payments\n",
    "                    pv_previous += annual_coupon / np.power(1 + zero_rates[t], t + 1)\n",
    "                    \n",
    "            # Solve for zero rate\n",
    "            final_cf = principal + annual_coupon\n",
    "            zero_rate = np.power(final_cf / (price - pv_previous), 1/maturity) - 1\n",
    "            zero_rates.append(zero_rate)\n",
    "    \n",
    "    # Add zero rates to DataFrame\n",
    "    df['Zero_Rates'] = [rate * 100 for rate in zero_rates]  # Convert to percentage\n",
    "    \n",
    "    return df\n",
    "\n",
    "# Example usage\n",
    "data = {\n",
    "    'Maturity': [0.5, 1, 1.5],\n",
    "    'Price': [99.8, 101.2, 102.4],\n",
    "    'Coupon_Rate': [0.5, 1, 0.5],\n",
    "    'Principal': [100, 100, 100]\n",
    "}\n",
    "\n",
    "df = pd.DataFrame(data)\n",
    "result = calculate_zero_rates(df)\n",
    "\n",
    "# Display results\n",
    "print(\"\\nInput DataFrame with Calculated Zero Rates:\")\n",
    "pd.set_option('display.float_format', lambda x: '%.4f' % x)\n",
    "print(result)\n"
   ]
  },
  {
   "cell_type": "markdown",
   "metadata": {},
   "source": [
    "In real world, investors encounter friction costs such as fees, commissions and other types of expenses. NPV is often used to measure ther value of an investment opportunity:\n",
    "\n",
    "$$NPV = C_{0} + PV.$$\n",
    "\n",
    "Given what you know about discounting future cashflows, your task is to modify the formula above to get a net present value of bond, which includes accrued interest, comission fees on entrance and exit (i.e., assume there is a commission for settling the return of the principal), and administrative fees (i.e., fees paid to the exchange that keeps track of asset ownership)."
   ]
  },
  {
   "cell_type": "markdown",
   "metadata": {},
   "source": [
    "2. Define a python function for calculating the modified net present value of a bond subject to accrued interest, entry and exit fees and administrative fees (assume the administrative fees are paid out at the same frequency as the coupons). The accrued interest MUST be computed from the coupon value. **\\[6 marks\\]**"
   ]
  },
  {
   "cell_type": "code",
   "execution_count": 9,
   "metadata": {},
   "outputs": [],
   "source": [
    "# Answer here"
   ]
  },
  {
   "cell_type": "markdown",
   "metadata": {},
   "source": [
    "3. Using the values from Exhibit 2 compute the modified net present value of the investment. Is this a good investment considering all the expenses? **\\[3 marks\\]**\n",
    "\n",
    "### Exhibit 2: Information for an Investment\n",
    "| Parameter | Value |\n",
    "| --- | --- |\n",
    "| Principal | $100 |\n",
    "| Coupon | $4 (Yearly) |\n",
    "| Price | $101.5 |\n",
    "| Interest Rate | 2% |\n",
    "| Maturity | 3 years |\n",
    "| Administrative Fee | $1 (Yearly) |\n",
    "| Entry Fee | $5 |\n",
    "| Exit Fee | $5 |\n",
    "| Days from Last Coupon | 200 |"
   ]
  },
  {
   "cell_type": "code",
   "execution_count": 33,
   "metadata": {},
   "outputs": [
    {
     "name": "stdout",
     "output_type": "stream",
     "text": [
      "Detailed Calculations:\n",
      "             Component    Value\n",
      "0     Accrued Interest   2.1918\n",
      "1       Initial Outlay 108.6918\n",
      "2  Total PV of Inflows  98.1723\n",
      "3                  NPV -10.5195\n",
      "\n",
      "Yearly Cash Flow Details:\n",
      "   Year  Cash Flow  Present Value\n",
      "0     1          3         2.9412\n",
      "1     2          3         2.8835\n",
      "2     3         98        92.3476\n",
      "\n",
      "Investment Assessment:\n",
      "This is not a good investment with negative NPV of $-10.52\n",
      "Reasons:\n",
      "1. The various fees significantly reduce returns\n",
      "2. The 2% interest rate isn't sufficient to overcome the fees\n",
      "3. The initial outlay includes substantial non-recoverable costs\n"
     ]
    }
   ],
   "source": [
    "# Answer here\n",
    "import numpy as np\n",
    "import pandas as pd\n",
    "\n",
    "def calculate_modified_npv(principal, coupon, price, interest_rate, maturity,\n",
    "                         admin_fee, entry_fee, exit_fee, days_from_last_coupon):\n",
    "    \"\"\"\n",
    "    Calculate modified NPV considering all fees and accrued interest.\n",
    "    \n",
    "    Parameters:\n",
    "    principal: Bond principal\n",
    "    coupon: Annual coupon payment\n",
    "    price: Bond price\n",
    "    interest_rate: Annual interest rate (as decimal)\n",
    "    maturity: Time to maturity in years\n",
    "    admin_fee: Annual administrative fee\n",
    "    entry_fee: One-time entry fee\n",
    "    exit_fee: One-time exit fee\n",
    "    days_from_last_coupon: Days since last coupon payment\n",
    "    \"\"\"\n",
    "    \n",
    "    # Calculate accrued interest\n",
    "    accrued_interest = coupon * (days_from_last_coupon/365)\n",
    "    \n",
    "    # Calculate initial outlay\n",
    "    initial_outlay = price + entry_fee + accrued_interest\n",
    "    \n",
    "    # Calculate net annual payment (coupon - admin fee)\n",
    "    net_annual_payment = coupon - admin_fee\n",
    "    \n",
    "    # Calculate present values\n",
    "    pv_cashflows = []\n",
    "    \n",
    "    # Discount each year's cash flows\n",
    "    for t in range(1, maturity + 1):\n",
    "        if t == maturity:\n",
    "            # Final year: include principal and exit fee\n",
    "            cashflow = net_annual_payment + principal - exit_fee\n",
    "        else:\n",
    "            cashflow = net_annual_payment\n",
    "            \n",
    "        pv = cashflow / (1 + interest_rate)**t\n",
    "        pv_cashflows.append(pv)\n",
    "    \n",
    "    # Calculate total present value and NPV\n",
    "    total_pv = sum(pv_cashflows)\n",
    "    npv = total_pv - initial_outlay\n",
    "    \n",
    "    # Create DataFrame for detailed calculations\n",
    "    details = pd.DataFrame({\n",
    "        'Component': ['Accrued Interest', 'Initial Outlay', 'Total PV of Inflows', 'NPV'],\n",
    "        'Value': [accrued_interest, initial_outlay, total_pv, npv]\n",
    "    })\n",
    "    \n",
    "    # Create yearly cash flow details\n",
    "    yearly_details = pd.DataFrame({\n",
    "        'Year': range(1, maturity + 1),\n",
    "        'Cash Flow': [net_annual_payment if t != maturity \n",
    "                     else net_annual_payment + principal - exit_fee \n",
    "                     for t in range(1, maturity + 1)],\n",
    "        'Present Value': pv_cashflows\n",
    "    })\n",
    "    \n",
    "    return npv, details, yearly_details\n",
    "\n",
    "# Example usage with given values\n",
    "params = {\n",
    "    'principal': 100,\n",
    "    'coupon': 4,\n",
    "    'price': 101.5,\n",
    "    'interest_rate': 0.02,  # 2%\n",
    "    'maturity': 3,\n",
    "    'admin_fee': 1,\n",
    "    'entry_fee': 5,\n",
    "    'exit_fee': 5,\n",
    "    'days_from_last_coupon': 200\n",
    "}\n",
    "\n",
    "npv, details, yearly_details = calculate_modified_npv(**params)\n",
    "\n",
    "# Display results\n",
    "print(\"Detailed Calculations:\")\n",
    "pd.set_option('display.float_format', lambda x: '%.4f' % x)\n",
    "print(details)\n",
    "\n",
    "print(\"\\nYearly Cash Flow Details:\")\n",
    "print(yearly_details)\n",
    "\n",
    "print(f\"\\nInvestment Assessment:\")\n",
    "if npv > 0:\n",
    "    print(f\"This is a good investment with positive NPV of ${npv:.2f}\")\n",
    "else:\n",
    "    print(f\"This is not a good investment with negative NPV of ${npv:.2f}\")\n",
    "print(\"Reasons:\")\n",
    "print(\"1. The various fees significantly reduce returns\")\n",
    "print(\"2. The 2% interest rate isn't sufficient to overcome the fees\")\n",
    "print(\"3. The initial outlay includes substantial non-recoverable costs\")"
   ]
  },
  {
   "cell_type": "markdown",
   "metadata": {},
   "source": [
    "## Question 3: Credit and Bonds **\\[20 marks\\]**\n",
    "\n",
    "Suppose that risk-free spot rates with continuous compounding are as follows:\n",
    "\n",
    "### Exhibit 3: Spot Rates\n",
    "| Maturity (Months) | Spot Rate (% per annum) |\n",
    "| --- | --- |\n",
    "| 3   | 2.1 |\n",
    "| 6   | 2.3 |\n",
    "| 9   | 2.4 |\n",
    "| 12  | 2.7 |\n",
    "| 15  | 3.0 |\n",
    "| 18  | 3.1 |"
   ]
  },
  {
   "cell_type": "code",
   "execution_count": 35,
   "metadata": {},
   "outputs": [],
   "source": [
    "import copy\n",
    "from pypfopt import risk_models\n",
    "from pypfopt import expected_returns\n",
    "from pypfopt.efficient_frontier import EfficientFrontier\n",
    "\n",
    "def plot_efficient_frontier(ef: EfficientFrontier, points: int=100) -> None:\n",
    "    fig, ax = plt.subplots()\n",
    "\n",
    "    # Generate range of returns\n",
    "    ef_minvol = copy.deepcopy(ef)\n",
    "    ef_maxret = copy.deepcopy(ef)\n",
    "    ef_minvol.min_volatility()\n",
    "    min_ret = ef_minvol.portfolio_performance()[0]\n",
    "    max_ret = ef_maxret._max_return()\n",
    "    ef_param_range = np.linspace(min_ret, max_ret - 0.0001, points)\n",
    "\n",
    "    # Plot efficient frontier from EfficientFrontier object\n",
    "    mus, sigmas = [], []\n",
    "    for param_value in ef_param_range:\n",
    "        ef_i = copy.deepcopy(ef)\n",
    "        try:\n",
    "            ef_i.efficient_return(param_value)\n",
    "        except:\n",
    "            raise ValueError(\"pypfopt experiences problems with portfolio optimization.\")\n",
    "        ret, sigma, _ = ef_i.portfolio_performance()\n",
    "        mus.append(ret)\n",
    "        sigmas.append(sigma)\n",
    "    \n",
    "    # Generate axis and plot\n",
    "    ax.plot(sigmas, mus, label=\"Efficient Frontier\")\n",
    "    ax.legend()\n",
    "    ax.set_xlabel(\"Volatility\")\n",
    "    ax.set_ylabel(\"Return\")\n",
    "    plt.show()"
   ]
  },
  {
   "cell_type": "markdown",
   "metadata": {},
   "source": [
    "1. Calculate discrete forward interest rates for the second, third, fourth, fifth and sixth quarters. **\\[5 marks\\]**"
   ]
  },
  {
   "cell_type": "code",
   "execution_count": 21,
   "metadata": {},
   "outputs": [
    {
     "name": "stdout",
     "output_type": "stream",
     "text": [
      "Second quarter: the forward rate is 2.50%\n",
      "Third quarter: the forward rate is 2.60%\n",
      "Fourth quarter: the forward rate is 3.60%\n",
      "Fifth quarter: the forward rate is 4.20%\n",
      "Sixth quarter: the forward rate is 3.60%\n"
     ]
    }
   ],
   "source": [
    "# Answer here\n",
    "# To answer this question, I understand I need to use the forward rate formula for continuous compounding: (R2 * T2 - R1 * T1) / (T2 - T1)\n",
    "def calculate_forward_rate(R1, R2, T1, T2):\n",
    "    \"\"\"\n",
    "        R1: Spot rate for maturity T1\n",
    "        R2: Spot rate for maturity T2\n",
    "        T1: Maturity for the first rate in years\n",
    "        T2: Maturity for the second rate in years\n",
    "    Returns:\n",
    "        float: Forward rate \n",
    "    \"\"\"\n",
    "    # Forward rate calculation\n",
    "    RF = (R2 * T2 - R1 * T1) / (T2 - T1)\n",
    "    return RF\n",
    "\n",
    "data = {\n",
    "    \"Q2\": {\"R1\": 2.1, \"R2\": 2.3, \"T1\": 0.25, \"T2\": 0.5},\n",
    "    \"Q3\": {\"R1\": 2.3, \"R2\": 2.4, \"T1\": 0.5, \"T2\": 0.75},\n",
    "    \"Q4\": {\"R1\": 2.4, \"R2\": 2.7, \"T1\": 0.75, \"T2\": 1.0},\n",
    "    \"Q5\": {\"R1\": 2.7, \"R2\": 3.0, \"T1\": 1.0, \"T2\": 1.25},\n",
    "    \"Q6\": {\"R1\": 3.0, \"R2\": 3.1, \"T1\": 1.25, \"T2\": 1.5},\n",
    "}\n",
    "q2 = data[\"Q2\"]\n",
    "q3 = data[\"Q3\"]\n",
    "q4 = data[\"Q4\"]\n",
    "q5 = data[\"Q5\"]\n",
    "q6 = data[\"Q6\"]\n",
    "\n",
    "print(f\"Second quarter: the forward rate is {calculate_forward_rate(q2['R1'], q2['R2'], q2['T1'], q2['T2']):.2f}%\")\n",
    "print(f\"Third quarter: the forward rate is {calculate_forward_rate(q3['R1'], q3['R2'], q3['T1'], q3['T2']):.2f}%\")\n",
    "print(f\"Fourth quarter: the forward rate is {calculate_forward_rate(q4['R1'], q4['R2'], q4['T1'], q4['T2']):.2f}%\")\n",
    "print(f\"Fifth quarter: the forward rate is {calculate_forward_rate(q5['R1'], q5['R2'], q5['T1'], q5['T2']):.2f}%\")\n",
    "print(f\"Sixth quarter: the forward rate is {calculate_forward_rate(q6['R1'], q6['R2'], q6['T1'], q6['T2']):.2f}%\")\n",
    "\n"
   ]
  },
  {
   "cell_type": "markdown",
   "metadata": {},
   "source": [
    "Below is the table of future cashflows paid out by the bond, along with the spot rates that are continuously compounded:\n",
    "\n",
    "### Exhibit 4: Bond Structure\n",
    "| Maturity (Years) | Spot Rate | Coupon | Principal |\n",
    "| --- | --- | --- | --- |\n",
    "| 0.5 | 1.80% | £75 |     |\n",
    "| 1   | 2.05% | £75 |     |\n",
    "| 1.5 | 2.15% | £60 |     |\n",
    "| 2   | 2.4% | £60 | £1000 |"
   ]
  },
  {
   "cell_type": "markdown",
   "metadata": {},
   "source": [
    "2.  What is the bond's theoretical price? **\\[4 marks\\]**"
   ]
  },
  {
   "cell_type": "code",
   "execution_count": 29,
   "metadata": {},
   "outputs": [
    {
     "name": "stdout",
     "output_type": "stream",
     "text": [
      "The bond's theoretical price is 1216.22\n"
     ]
    }
   ],
   "source": [
    "# The bond's theoretical price is 1216.22\n",
    "\n",
    "# Here I need to use the formula for calculating the present value of each cashflow \n",
    "# and then sum up all the present values. This would equal the bond's theoretical price\n",
    "\n",
    "import math\n",
    "\n",
    "def present_value_continuous_compounding(FV, r, t):\n",
    "    \"\"\"\n",
    "        FV: expected future cashflow\n",
    "        r: continuously compounded spot rate\n",
    "        t: time to maturity\n",
    "    Returns: PV: present value\n",
    "    \"\"\"\n",
    "    PV = FV / math.exp(r * t)\n",
    "    return PV\n",
    "\n",
    "data = {\n",
    "    \"c1\": {\"FV\": 75, \"r\": 0.018, \"t\": 0.5},\n",
    "    \"c2\": {\"FV\": 75, \"r\": 0.0205, \"t\": 1},\n",
    "    \"c3\": {\"FV\": 60, \"r\": 0.0215, \"t\": 1.5},\n",
    "    \"c4\": {\"FV\": 1060, \"r\": 0.024, \"t\": 2}\n",
    "}\n",
    "\n",
    "PVc1 = present_value_continuous_compounding(data['c1']['FV'], data['c1']['r'], data['c1']['t'])\n",
    "PVc2 = present_value_continuous_compounding(data['c2']['FV'], data['c2']['r'], data['c2']['t'])\n",
    "PVc3 = present_value_continuous_compounding(data['c3']['FV'], data['c3']['r'], data['c3']['t'])\n",
    "PVc4 = present_value_continuous_compounding(data['c4']['FV'], data['c4']['r'], data['c4']['t'])\n",
    "\n",
    "print(f\"The bond's theoretical price is {(PVc1 + PVc2 + PVc3 + PVc4):.2f}\")\n",
    "\n",
    "# Another way to do it is to use pv function from the numpy_financial package \n",
    "# Here's the code. If you want to try it out, please install numpy_financial package first, \n",
    "# then and uncomment the code below and run it\n",
    "# import numpy_financial as npf\n",
    "\n",
    "def calculate_present_value_with_npf(FV, r, t):\n",
    "    PV = -npf.pv(rate=r, nper=t, pmt=0, fv=FV)\n",
    "    return PV\n",
    "\n",
    "# _PVc1 = calculate_present_value_with_npf(data['c1']['FV'], data['c1']['r'], data['c1']['t'])\n",
    "# _PVc2 = calculate_present_value_with_npf(data['c2']['FV'], data['c2']['r'], data['c2']['t'])\n",
    "# _PVc3 = calculate_present_value_with_npf(data['c3']['FV'], data['c3']['r'], data['c3']['t'])\n",
    "# _PVc4 = calculate_present_value_with_npf(data['c4']['FV'], data['c4']['r'], data['c4']['t'])\n",
    "\n",
    "# print(f\"The bond's theoretical price is {(_PVc1 + _PVc2 + _PVc3 + _PVc4):.2f}\")\n",
    "\n",
    "\n",
    "\n",
    "# import numpy_financial as npf\n",
    "\n",
    "# # Declaring values\n",
    "# cashflows = [-500, 200, 147, 128, 130, 235]\n",
    "# rate = 0.20\n",
    "\n",
    "# # Printing NPV Values\n",
    "# print(\"NPV value with rate \", rate, \" is: \", npf.npv(rate, cashflows))"
   ]
  },
  {
   "cell_type": "markdown",
   "metadata": {},
   "source": [
    "3.  What is the yield of the bond assuming it sells for its theoretical price? **\\[3 marks\\]**"
   ]
  },
  {
   "cell_type": "code",
   "execution_count": 36,
   "metadata": {},
   "outputs": [
    {
     "name": "stdout",
     "output_type": "stream",
     "text": [
      "The yield of the bond in this case is 7.50%\n"
     ]
    }
   ],
   "source": [
    "# Answer here\n",
    "annual_coupon_payment = 75\n",
    "face_value = 1000\n",
    "coupon_yield = annual_coupon_payment / face_value\n",
    "print(f\"The yield of the bond in this case is {coupon_yield*100:.2f}%\")\n"
   ]
  },
  {
   "cell_type": "markdown",
   "metadata": {},
   "source": [
    "4.  Convert a 6% per annum interest rate with quarterly compounding to the equivalent rate with annual compounding. **\\[1 mark\\]**"
   ]
  },
  {
   "cell_type": "code",
   "execution_count": 14,
   "metadata": {},
   "outputs": [],
   "source": [
    "# Answer here"
   ]
  },
  {
   "cell_type": "markdown",
   "metadata": {},
   "source": [
    "5.  Convert a 5% per annum interest rate with semi-annual compounding to the equivalent rate with monthly compounding. **\\[1 mark\\]**"
   ]
  },
  {
   "cell_type": "code",
   "execution_count": 15,
   "metadata": {},
   "outputs": [],
   "source": [
    "# Answer here"
   ]
  },
  {
   "cell_type": "markdown",
   "metadata": {},
   "source": [
    "6.  Convert a 6% per annum interest rate with monthly compounding to the equivalent rate with continuous compounding. **\\[1 mark\\]**"
   ]
  },
  {
   "cell_type": "code",
   "execution_count": 16,
   "metadata": {},
   "outputs": [],
   "source": [
    "# Answer here"
   ]
  },
  {
   "cell_type": "markdown",
   "metadata": {},
   "source": [
    "7. Suppose that the interest rate on a one-year risk-free bonds is 4%, and now a corporate bond is issued with a face value of £1,000, maturing in 1-year. The payoff of the bond in the case that the company doesn’t default is £1080 with probability of 80%, and 20% for the default case where bond holders receive nothing. With this chance of default, investors demand a 5% risk premium, which is priced into the market. What is the price of the bond, and what is its promised yield? Provide answers up to 2 decimal figures. **\\[5 marks\\]**"
   ]
  },
  {
   "cell_type": "code",
   "execution_count": 17,
   "metadata": {},
   "outputs": [],
   "source": [
    "# Answer here"
   ]
  },
  {
   "cell_type": "markdown",
   "metadata": {},
   "source": [
    "## Question 4: Derivatives 1 **\\[13 marks\\]**"
   ]
  },
  {
   "cell_type": "markdown",
   "metadata": {},
   "source": [
    "1.  Estimate the average hazard rate per year over a 3 year period, if for a 3 year corporate bond the spread is 70 basis points to a risk free bond. Taking the recovery rate of the corporate bond to be 35%. **\\[2 marks\\]**"
   ]
  },
  {
   "cell_type": "code",
   "execution_count": 41,
   "metadata": {},
   "outputs": [
    {
     "name": "stdout",
     "output_type": "stream",
     "text": [
      "The estimated average hazar in this case is 1.08%\n"
     ]
    }
   ],
   "source": [
    "# Answer: Estimated average hazar rate in this case is 1.08%.\n",
    "\n",
    "# To calculate the average hazard rate, I use the following formula:\n",
    "spread = 0.007\n",
    "recovery_rate = 0.35\n",
    "\n",
    "average_hazard_rate = spread / (1 - recovery_rate)\n",
    "print(f\"The estimated average hazar in this case is {average_hazard_rate*100:.2f}%\")\n"
   ]
  },
  {
   "cell_type": "markdown",
   "metadata": {},
   "source": [
    "2.  The spot price of sunflower oil is £30 per barrel and storing each barrel costs £2, payable at the end of the year. The risk-free interest rate is 7% per annum and is continuously compounded. What is the future value for the one-year futures price of sunflower oil? **\\[5 marks\\]**"
   ]
  },
  {
   "cell_type": "code",
   "execution_count": 50,
   "metadata": {},
   "outputs": [
    {
     "name": "stdout",
     "output_type": "stream",
     "text": [
      "The one-year futures price of sunflower oil is £34.39\n"
     ]
    }
   ],
   "source": [
    "# Answer: The one-year futures price of sunflower oil is £34.39\n",
    "\n",
    "import numpy as np\n",
    "import matplotlib.pyplot as plt\n",
    "\n",
    "s = 30 # Spot price of sunflower oil (£ per barrel)\n",
    "r = 0.07  # Risk-free interest rate (continuously compounded, 7%)\n",
    "u = 2 / 30  # Storage cost as a proportion of the spot price\n",
    "y = 0  # Convenience yield (assume 0)\n",
    "time_to_maturity = 1  # Time to maturity (1 year)\n",
    "\n",
    "# Futures price calculation (Contango formula)\n",
    "futures_price = s * np.exp(time_to_maturity * (r + u - y))\n",
    "\n",
    "print(f\"The one-year futures price of sunflower oil is £{futures_price:.2f}\")\n",
    "\n",
    "# import numpy_financial as npf\n",
    "\n",
    "# # Declaring values\n",
    "# cashflows = [-500, 200, 147, 128, 130, 235]\n",
    "# rate = 0.20\n",
    "\n",
    "# # Printing NPV Values\n",
    "# print(\"NPV value with rate \", rate, \" is: \", npf.npv(rate, cashflows))"
   ]
  },
  {
   "cell_type": "markdown",
   "metadata": {},
   "source": [
    "3.  The current USD/JPY exchange rate is 145 yen per dollar. And suppose the six-month forward exchange rate is 142.3. Taking the six-month JPY interest rate as -1% per annum continuously compounded, estimate the six-month dollar interest rate. **\\[6 marks\\]**"
   ]
  },
  {
   "cell_type": "code",
   "execution_count": 20,
   "metadata": {},
   "outputs": [],
   "source": [
    "# Answer here"
   ]
  },
  {
   "cell_type": "markdown",
   "metadata": {},
   "source": [
    "## Question 5: Derivatives 2 **\\[17 marks\\]**\n",
    "\n",
    "A price of a stock that doesn’t pay dividends is currently £46. You have entered a 2-year long forward contract at that price, while the interest rate is 4% per annum with continuous compounding."
   ]
  },
  {
   "cell_type": "markdown",
   "metadata": {},
   "source": [
    "1.  What is the initial value of the forward contract? **\\[1 mark\\]**"
   ]
  },
  {
   "cell_type": "code",
   "execution_count": 21,
   "metadata": {},
   "outputs": [],
   "source": [
    "# Answer here"
   ]
  },
  {
   "cell_type": "markdown",
   "metadata": {},
   "source": [
    "2.  What is the forward price? **\\[2 marks\\]**"
   ]
  },
  {
   "cell_type": "code",
   "execution_count": 22,
   "metadata": {},
   "outputs": [],
   "source": [
    "# Answer here"
   ]
  },
  {
   "cell_type": "markdown",
   "metadata": {},
   "source": [
    "3.  Six months later, the price of the stock is £49 and the risk-free interest rate is still 4%. What are the forward price and value of the forward contract? **\\[6 marks\\]**"
   ]
  },
  {
   "cell_type": "code",
   "execution_count": 23,
   "metadata": {},
   "outputs": [],
   "source": [
    "# Answer here"
   ]
  },
  {
   "cell_type": "markdown",
   "metadata": {},
   "source": [
    "4.  In the market, the current price of the forward contract is £2.43, how can you strategize to earn a profit? **\\[2 marks\\]**"
   ]
  },
  {
   "cell_type": "code",
   "execution_count": 24,
   "metadata": {},
   "outputs": [],
   "source": [
    "# Answer here"
   ]
  },
  {
   "cell_type": "markdown",
   "metadata": {},
   "source": [
    "5.  Suppose you are pricing a European put option using the binomial model. The stock price is $103, the strike price is $100, the maturity $T$ is three years, and the stock's volatility is 20%, and the risk-free rate is 3%. The stock's dividend yield is 2% and it pays only one dividend between now and maturity. Calculate the value of the call option described above. **\\[6 marks\\]**"
   ]
  },
  {
   "cell_type": "code",
   "execution_count": 25,
   "metadata": {},
   "outputs": [],
   "source": [
    "# Answer here"
   ]
  },
  {
   "cell_type": "markdown",
   "metadata": {},
   "source": [
    "## Question 6: Portfolio Theory **\\[13 marks\\]**\n",
    "In this question, you are tasked with building a portfolio of stocks with the following tickers: AAPL, GOOG, AMZN and META.\n",
    "\n",
    "You need to retrieve the relevant Yahoo Finance data with the yfinance Python module from the 1st of January 2017 to 1st of October 2024 (inclusive)."
   ]
  },
  {
   "cell_type": "markdown",
   "metadata": {},
   "source": [
    "1. Calculate the daily returns of these stocks. You should use the adjusted daily closing price. **\\[1 mark\\]**"
   ]
  },
  {
   "cell_type": "code",
   "execution_count": 153,
   "metadata": {},
   "outputs": [
    {
     "name": "stderr",
     "output_type": "stream",
     "text": [
      "[*********************100%***********************]  4 of 4 completed\n"
     ]
    },
    {
     "data": {
      "text/html": [
       "<div>\n",
       "<style scoped>\n",
       "    .dataframe tbody tr th:only-of-type {\n",
       "        vertical-align: middle;\n",
       "    }\n",
       "\n",
       "    .dataframe tbody tr th {\n",
       "        vertical-align: top;\n",
       "    }\n",
       "\n",
       "    .dataframe thead th {\n",
       "        text-align: right;\n",
       "    }\n",
       "</style>\n",
       "<table border=\"1\" class=\"dataframe\">\n",
       "  <thead>\n",
       "    <tr style=\"text-align: right;\">\n",
       "      <th>Ticker</th>\n",
       "      <th>AAPL</th>\n",
       "      <th>AMZN</th>\n",
       "      <th>GOOG</th>\n",
       "      <th>META</th>\n",
       "    </tr>\n",
       "    <tr>\n",
       "      <th>Date</th>\n",
       "      <th></th>\n",
       "      <th></th>\n",
       "      <th></th>\n",
       "      <th></th>\n",
       "    </tr>\n",
       "  </thead>\n",
       "  <tbody>\n",
       "    <tr>\n",
       "      <th>2017-01-03</th>\n",
       "      <td>NaN</td>\n",
       "      <td>NaN</td>\n",
       "      <td>NaN</td>\n",
       "      <td>NaN</td>\n",
       "    </tr>\n",
       "    <tr>\n",
       "      <th>2017-01-04</th>\n",
       "      <td>-0.001119</td>\n",
       "      <td>0.004657</td>\n",
       "      <td>0.000967</td>\n",
       "      <td>0.015660</td>\n",
       "    </tr>\n",
       "    <tr>\n",
       "      <th>2017-01-05</th>\n",
       "      <td>0.005086</td>\n",
       "      <td>0.030732</td>\n",
       "      <td>0.009048</td>\n",
       "      <td>0.016682</td>\n",
       "    </tr>\n",
       "    <tr>\n",
       "      <th>2017-01-06</th>\n",
       "      <td>0.011148</td>\n",
       "      <td>0.019912</td>\n",
       "      <td>0.015277</td>\n",
       "      <td>0.022707</td>\n",
       "    </tr>\n",
       "    <tr>\n",
       "      <th>2017-01-09</th>\n",
       "      <td>0.009159</td>\n",
       "      <td>0.001168</td>\n",
       "      <td>0.000620</td>\n",
       "      <td>0.012074</td>\n",
       "    </tr>\n",
       "  </tbody>\n",
       "</table>\n",
       "</div>"
      ],
      "text/plain": [
       "Ticker          AAPL      AMZN      GOOG      META\n",
       "Date                                              \n",
       "2017-01-03       NaN       NaN       NaN       NaN\n",
       "2017-01-04 -0.001119  0.004657  0.000967  0.015660\n",
       "2017-01-05  0.005086  0.030732  0.009048  0.016682\n",
       "2017-01-06  0.011148  0.019912  0.015277  0.022707\n",
       "2017-01-09  0.009159  0.001168  0.000620  0.012074"
      ]
     },
     "execution_count": 153,
     "metadata": {},
     "output_type": "execute_result"
    }
   ],
   "source": [
    "import pandas as pd\n",
    "import yfinance as yf\n",
    "import datetime\n",
    "\n",
    "tickers = [\"AAPL\", \"GOOG\", \"AMZN\", \"META\"]\n",
    "start = \"2017-01-01\"\n",
    "end = \"2024-10-01\"\n",
    "\n",
    "stock_data = yf.download(tickers, start)\n",
    "\n",
    "adjusted_close = stock_data['Adj Close']\n",
    "\n",
    "returns = adjusted_close.pct_change()\n",
    "\n",
    "returns.head()\n"
   ]
  },
  {
   "cell_type": "markdown",
   "metadata": {},
   "source": [
    "2. Based on 1., find the covariance matrix of these stocks. **\\[1 mark\\]**"
   ]
  },
  {
   "cell_type": "code",
   "execution_count": 154,
   "metadata": {},
   "outputs": [
    {
     "name": "stderr",
     "output_type": "stream",
     "text": [
      "[*********************100%***********************]  4 of 4 completed"
     ]
    },
    {
     "name": "stdout",
     "output_type": "stream",
     "text": [
      "Ticker      AAPL      AMZN      GOOG      META\n",
      "Ticker                                        \n",
      "AAPL    0.086148  0.057847  0.054862  0.063119\n",
      "AMZN    0.057847  0.109504  0.063852  0.079539\n",
      "GOOG    0.054862  0.063852  0.085250  0.074005\n",
      "META    0.063119  0.079539  0.074005  0.158313\n"
     ]
    },
    {
     "name": "stderr",
     "output_type": "stream",
     "text": [
      "\n"
     ]
    }
   ],
   "source": [
    "# Answer here\n",
    "import pandas as pd\n",
    "import yfinance as yf\n",
    "import pandas as pd\n",
    "import yfinance as yf\n",
    "import datetime\n",
    "\n",
    "tickers = [\"AAPL\", \"GOOG\", \"AMZN\", \"META\"]\n",
    "start = \"2017-01-01\"\n",
    "end = \"2024-10-01\"\n",
    "\n",
    "stock_data = yf.download(tickers, start)\n",
    "\n",
    "stock_prices_port: pd.DataFrame = stock_data['Adj Close']\n",
    "\n",
    "sigma = risk_models.sample_cov(stock_prices_port)\n",
    "\n",
    "print(sigma)\n"
   ]
  },
  {
   "cell_type": "markdown",
   "metadata": {},
   "source": [
    "3. Suppose that the four stocks are equally weighted, find the total annualised portfolio expected returns and portfolio variance. **\\[2 marks\\]**\n",
    "\n"
   ]
  },
  {
   "cell_type": "code",
   "execution_count": 159,
   "metadata": {},
   "outputs": [
    {
     "name": "stderr",
     "output_type": "stream",
     "text": [
      "[*********************100%***********************]  4 of 4 completed\n"
     ]
    }
   ],
   "source": [
    "# Answer here\n",
    "\n",
    "import pandas as pd\n",
    "import yfinance as yf\n",
    "import pandas as pd\n",
    "import yfinance as yf\n",
    "import datetime\n",
    "\n",
    "tickers = [\"AAPL\", \"GOOG\", \"AMZN\", \"META\"]\n",
    "start = \"2017-01-01\"\n",
    "end = \"2024-10-01\"\n",
    "\n",
    "stock_data = yf.download(tickers, start)\n",
    "\n",
    "# Get the adjusted close prices\n",
    "stock_prices_port: pd.DataFrame = stock_data['Adj Close']\n",
    "\n",
    "# Calculate the daily returns of the adjusted close price\n",
    "stock_returns_port = stock_prices_port.pct_change()\n",
    "\n",
    "portfolio_weights = np.array([0.25, 0.25, 0.25, 0.25])\n",
    "\n",
    "# Recall the return matrix of stocks\n",
    "# print(stock_returns_port.head(), \"\\n\")\n",
    "\n",
    "# Delete the 'Portfolio' column\n",
    "# inplace=False to make sure that the original 'stock_returns_port' does not change\n",
    "# returns_port = stock_returns_port.drop('Portfolio', axis=1, inplace=False)\n",
    "\n",
    "# Annualized covariance matrix of stock returns\n",
    "# cov_matrix = (returns_port.cov())*252\n",
    "# print(cov_matrix, \"\\n\")\n",
    "\n",
    "# Calculate the portfolio variance\n",
    "# port_variance = np.dot(portfolio_weights.T, np.dot(cov_matrix, portfolio_weights))\n",
    "# print(\"Portfolio variance: \"+str(port_variance))"
   ]
  },
  {
   "cell_type": "markdown",
   "metadata": {},
   "source": [
    "4. Find the efficient portfolio with the maximum Sharpe ratio. What is the corresponding Sharpe ratio? **\\[2 marks\\]**"
   ]
  },
  {
   "cell_type": "code",
   "execution_count": 29,
   "metadata": {},
   "outputs": [],
   "source": [
    "# Answer here"
   ]
  },
  {
   "cell_type": "markdown",
   "metadata": {},
   "source": [
    "5. Plot the efficient frontier (Without the use of the Plotly library in Python). **\\[3 mark\\]**"
   ]
  },
  {
   "cell_type": "code",
   "execution_count": 30,
   "metadata": {},
   "outputs": [],
   "source": [
    "# Answer here"
   ]
  },
  {
   "cell_type": "markdown",
   "metadata": {},
   "source": [
    "6. Based on the concept of diversification, comment on the current portfolio. How can this portfolio be improved? (Answers should be no longer than 200 words) **\\[4 marks\\]**"
   ]
  },
  {
   "cell_type": "code",
   "execution_count": 31,
   "metadata": {},
   "outputs": [],
   "source": [
    "# Answer:\n",
    "# This portfolio is composed entirely of large-cap U.S. technology companies, resulting in highly correlated returns. \n",
    "# This concentration carries significant risk, which can be mitigated by diversifying the portfolio. \n",
    "# Diversification strategies include adding companies from different sectors (e.g., energy, healthcare), \n",
    "# incorporating international market exposure (through non-U.S. companies), \n",
    "# and including stocks of varying market capitalizations (mid and small-cap stocks)."
   ]
  }
 ],
 "metadata": {
  "kernelspec": {
   "display_name": "digital_finance_env",
   "language": "python",
   "name": "python3"
  },
  "language_info": {
   "codemirror_mode": {
    "name": "ipython",
    "version": 3
   },
   "file_extension": ".py",
   "mimetype": "text/x-python",
   "name": "python",
   "nbconvert_exporter": "python",
   "pygments_lexer": "ipython3",
   "version": "3.8.18"
  }
 },
 "nbformat": 4,
 "nbformat_minor": 2
}
